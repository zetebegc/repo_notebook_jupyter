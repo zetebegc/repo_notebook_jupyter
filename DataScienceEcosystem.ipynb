{
 "cells": [
  {
   "cell_type": "markdown",
   "id": "2bcb90db-4881-46d8-a04d-7e4a687ee8ce",
   "metadata": {
    "tags": []
   },
   "source": [
    "# Data Science Tools and Ecosystem"
   ]
  },
  {
   "cell_type": "markdown",
   "id": "b1e400d7-eefc-44a7-985b-76fcb06b520c",
   "metadata": {
    "tags": []
   },
   "source": [
    "In this notebook, Data Science Tools and Ecosystem are summarized."
   ]
  },
  {
   "cell_type": "markdown",
   "id": "d9728fe7-1f67-4e6d-93bc-07d0f0d03fcb",
   "metadata": {},
   "source": [
    "***Objectives:***\n",
    "\n",
    "- List popular languages for Data Science\n",
    "- List of common libraries used in Data Science\n",
    "- List of development environment for the Data Science\n",
    "- Some examples of arithmetic operations "
   ]
  },
  {
   "cell_type": "markdown",
   "id": "2970f314-7b10-4428-9f40-ddea2a93f0af",
   "metadata": {},
   "source": [
    "Some of the popular languages that Data Scientists use are:\n",
    "1. Scala\n",
    "2. Java\n",
    "3. C++"
   ]
  },
  {
   "cell_type": "markdown",
   "id": "002fda03-5948-416b-a3d8-93eeb10eacdb",
   "metadata": {},
   "source": [
    "Some of the commonly used libraries used by Data Scientists include:\n",
    "1. Pandas\n",
    "2. NumPy\n",
    "3. Matpolib"
   ]
  },
  {
   "cell_type": "markdown",
   "id": "d12157e8-50ea-4171-8006-dfc79cb7dd43",
   "metadata": {
    "tags": []
   },
   "source": [
    "|Data Science Tools|\n",
    "|-------|\n",
    "|Jupyter|\n",
    "|RStudio|\n",
    "|Apache Zeppelin|"
   ]
  },
  {
   "cell_type": "markdown",
   "id": "5b290971-c505-42d9-a725-7b79799d2446",
   "metadata": {},
   "source": [
    "### Below are a few examples of evaluating arithmetic expressions in Python"
   ]
  },
  {
   "cell_type": "code",
   "execution_count": 3,
   "id": "f8049f0c-7bd3-4a67-847d-f376d2d21043",
   "metadata": {
    "tags": []
   },
   "outputs": [
    {
     "data": {
      "text/plain": [
       "17"
      ]
     },
     "execution_count": 3,
     "metadata": {},
     "output_type": "execute_result"
    }
   ],
   "source": [
    "# This a simple arithmetic expression to mutiply then add integers\n",
    "\n",
    "(3*4)+5"
   ]
  },
  {
   "cell_type": "code",
   "execution_count": 4,
   "id": "0fd398c9-7858-43e7-aaa8-0c8a5e7e515b",
   "metadata": {
    "tags": []
   },
   "outputs": [
    {
     "data": {
      "text/plain": [
       "3.3333333333333335"
      ]
     },
     "execution_count": 4,
     "metadata": {},
     "output_type": "execute_result"
    }
   ],
   "source": [
    "# This will convert 200 minutes to hours by diving by 60\n",
    "\n",
    "200/60"
   ]
  },
  {
   "cell_type": "markdown",
   "id": "e19d99d8-34b7-4b05-a710-4439ce868484",
   "metadata": {},
   "source": [
    "## Author:\n",
    "Patrick NGUETSENG"
   ]
  },
  {
   "cell_type": "code",
   "execution_count": null,
   "id": "175145f9-8b16-4318-9b8b-f644c4cc8190",
   "metadata": {},
   "outputs": [],
   "source": []
  }
 ],
 "metadata": {
  "kernelspec": {
   "display_name": "Python",
   "language": "python",
   "name": "conda-env-python-py"
  },
  "language_info": {
   "codemirror_mode": {
    "name": "ipython",
    "version": 3
   },
   "file_extension": ".py",
   "mimetype": "text/x-python",
   "name": "python",
   "nbconvert_exporter": "python",
   "pygments_lexer": "ipython3",
   "version": "3.7.12"
  }
 },
 "nbformat": 4,
 "nbformat_minor": 5
}
